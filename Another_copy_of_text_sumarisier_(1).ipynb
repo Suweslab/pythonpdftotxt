{
  "nbformat": 4,
  "nbformat_minor": 0,
  "metadata": {
    "colab": {
      "provenance": [],
      "include_colab_link": true
    },
    "kernelspec": {
      "name": "python3",
      "display_name": "Python 3"
    },
    "language_info": {
      "name": "python"
    }
  },
  "cells": [
    {
      "cell_type": "markdown",
      "metadata": {
        "id": "view-in-github",
        "colab_type": "text"
      },
      "source": [
        "<a href=\"https://colab.research.google.com/github/Suweslab/pythonpdftotxt/blob/main/Another_copy_of_text_sumarisier_(1).ipynb\" target=\"_parent\"><img src=\"https://colab.research.google.com/assets/colab-badge.svg\" alt=\"Open In Colab\"/></a>"
      ]
    },
    {
      "cell_type": "markdown",
      "source": [
        "# Text Summarisation\n",
        "\n",
        "Recall an earlier notebook where you were given a task to summarise online content and produce a report. We converted an audio file to text. Similarly, we could write a notebook to convert a PDF or Word document to text or Web pages to text. The strategy is to convert everything to text, summarise the text, and use the summary in the final report.\n",
        "\n",
        "# The Challenge\n",
        "\n",
        "Create a project to summarise text and publish the project in Binder.\n",
        "\n",
        "You can choose how to input the text.  Some ideas include pasting it into a string, reading from a file, extract from a PDF or a webpage.\n",
        "\n",
        "It is okay to follow a online tutoirial or youtube video but make sure you have some understanding of what you are doing. You can ask you tutor for help if needed.  They will either help search, or perhaps explain the code in a tutorial.\n",
        "\n",
        "\n",
        "# Task 0 - Initialise a NEW repository\n",
        "\n",
        "We are going to deploy this notebook using Binder.\n",
        "\n",
        "* Initialise a new PUBLIC GitHub repository, say called, text_summariser.\n",
        "* Import this notebook into the new repository\n",
        "\n"
      ],
      "metadata": {
        "id": "SmVEXRTA1wZn"
      }
    },
    {
      "cell_type": "code",
      "source": [
        "!pip install PyPDF2"
      ],
      "metadata": {
        "colab": {
          "base_uri": "https://localhost:8080/"
        },
        "id": "bH8UWVQ-J6jj",
        "outputId": "d1cb9a0d-a5c6-4333-8747-ac1819168b3e"
      },
      "execution_count": 1,
      "outputs": [
        {
          "output_type": "stream",
          "name": "stdout",
          "text": [
            "Collecting PyPDF2\n",
            "  Downloading pypdf2-3.0.1-py3-none-any.whl (232 kB)\n",
            "\u001b[2K     \u001b[90m━━━━━━━━━━━━━━━━━━━━━━━━━━━━━━━━━━━━━━━━\u001b[0m \u001b[32m232.6/232.6 kB\u001b[0m \u001b[31m2.0 MB/s\u001b[0m eta \u001b[36m0:00:00\u001b[0m\n",
            "\u001b[?25hInstalling collected packages: PyPDF2\n",
            "Successfully installed PyPDF2-3.0.1\n"
          ]
        }
      ]
    },
    {
      "cell_type": "markdown",
      "source": [
        "Make sure you have the PyPDF2 library installed (pip install PyPDF2). This code opens a PDF file, reads its content page by page, extracts text, and then writes the extracted text to a text file named output.txt. Replace 'example.pdf' with the path to your PDF file."
      ],
      "metadata": {
        "id": "-3qZS3XlKRdj"
      }
    },
    {
      "cell_type": "code",
      "source": [
        "\n",
        "import PyPDF2\n",
        "\n",
        "def pdf_to_text(pdf_file_path):\n",
        "    # Open the PDF file\n",
        "    with open(pdf_file_path, 'rb') as pdf_file:\n",
        "        # Create a PDF file reader object\n",
        "        pdf_reader = PyPDF2.PdfReader(pdf_file)\n",
        "\n",
        "        # Initialize an empty string to store the text\n",
        "        text = ''\n",
        "        for page_num in range(len(pdf_reader.pages)):\n",
        "          page = pdf_reader.pages[page_num]\n",
        "          text += page.extract_text()\n",
        "\n",
        "        # Loop through each page and extract text\n",
        "        # for page_num in range(pdf_reader.numPages):\n",
        "        #     page = pdf_reader.getPage(page_num)\n",
        "        #     text += page.extractText()\n",
        "\n",
        "        return text\n",
        "\n",
        "# Example usage\n",
        "pdf_file_path = '/home/fox.pdf'\n",
        "text = pdf_to_text(pdf_file_path)\n",
        "\n",
        "# Write the extracted text to a text file\n",
        "with open('/home/output.txt', 'w') as text_file:\n",
        "    text_file.write(text)"
      ],
      "metadata": {
        "id": "48RNuGBQIHQ0"
      },
      "execution_count": 3,
      "outputs": []
    }
  ]
}